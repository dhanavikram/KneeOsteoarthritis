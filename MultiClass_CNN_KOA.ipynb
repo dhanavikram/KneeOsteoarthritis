{
  "cells": [
    {
      "cell_type": "code",
      "execution_count": 3,
      "id": "bf05559d",
      "metadata": {
        "_cell_guid": "b1076dfc-b9ad-4769-8c92-a6c4dae69d19",
        "_uuid": "8f2839f25d086af736a60e9eeb907d3b93b6e0e5",
        "execution": {
          "iopub.execute_input": "2022-10-03T17:50:35.984594Z",
          "iopub.status.busy": "2022-10-03T17:50:35.983939Z",
          "iopub.status.idle": "2022-10-03T17:50:44.852203Z",
          "shell.execute_reply": "2022-10-03T17:50:44.851054Z"
        },
        "papermill": {
          "duration": 8.879883,
          "end_time": "2022-10-03T17:50:44.855091",
          "exception": false,
          "start_time": "2022-10-03T17:50:35.975208",
          "status": "completed"
        },
        "tags": [],
        "id": "bf05559d"
      },
      "outputs": [],
      "source": [
        "import os\n",
        "from zipfile import ZipFile\n",
        "\n",
        "import numpy as np\n",
        "import pandas as pd\n",
        "import matplotlib.pyplot as plt\n",
        "import cv2 \n",
        "import glob\n",
        "import collections\n",
        "\n",
        "from sklearn.model_selection import train_test_split\n",
        "from sklearn.metrics import accuracy_score,classification_report,confusion_matrix\n",
        "\n",
        "from keras.layers import Input, Lambda, Dense, Flatten,Dropout,Conv2D,MaxPooling2D, BatchNormalization\n",
        "from keras.models import Sequential, Model\n",
        "from keras.callbacks import ModelCheckpoint, EarlyStopping, ReduceLROnPlateau\n",
        "from keras.preprocessing.image import ImageDataGenerator"
      ]
    },
    {
      "cell_type": "code",
      "source": [
        "os.environ[\"KAGGLE_USERNAME\"]=\"dhanavikram\"\n",
        "os.environ[\"KAGGLE_KEY\"]=\"f7ebebfb57d7ec2c7857bc257c72e33e\"\n",
        "!kaggle datasets download -d shashwatwork/knee-osteoarthritis-dataset-with-severity\n",
        "\n",
        "file_name = '/content/knee-osteoarthritis-dataset-with-severity.zip'\n",
        "with ZipFile(file_name, 'r') as zip_file:\n",
        "  zip_file.extractall()"
      ],
      "metadata": {
        "colab": {
          "base_uri": "https://localhost:8080/"
        },
        "id": "tpr90QlIlQSg",
        "outputId": "48d76a86-53e7-41b9-f6c6-62e7b04f1408"
      },
      "id": "tpr90QlIlQSg",
      "execution_count": 4,
      "outputs": [
        {
          "output_type": "stream",
          "name": "stdout",
          "text": [
            "Downloading knee-osteoarthritis-dataset-with-severity.zip to /content\n",
            " 99% 201M/204M [00:09<00:00, 24.3MB/s]\n",
            "100% 204M/204M [00:09<00:00, 22.0MB/s]\n"
          ]
        }
      ]
    },
    {
      "cell_type": "code",
      "execution_count": 5,
      "id": "50e37dc5",
      "metadata": {
        "execution": {
          "iopub.execute_input": "2022-10-03T17:50:45.125179Z",
          "iopub.status.busy": "2022-10-03T17:50:45.124743Z",
          "iopub.status.idle": "2022-10-03T17:51:31.426066Z",
          "shell.execute_reply": "2022-10-03T17:51:31.425093Z"
        },
        "papermill": {
          "duration": 46.310381,
          "end_time": "2022-10-03T17:51:31.428713",
          "exception": false,
          "start_time": "2022-10-03T17:50:45.118332",
          "status": "completed"
        },
        "tags": [],
        "id": "50e37dc5"
      },
      "outputs": [],
      "source": [
        "first_class = []\n",
        "\n",
        "base_dir = os.getcwd()\n",
        "train_dir = os.path.join(base_dir, 'train')\n",
        "test_dir = os.path.join(base_dir, 'test')\n",
        "val_dir = os.path.join(base_dir, 'val')\n",
        "\n",
        "# Resizing images\n",
        "classes = [0, 1, 2]\n",
        "xdata = dict()\n",
        "for klass in [0,1,2]:\n",
        "    \n",
        "    xdata[klass] = []\n",
        "    class_dir = os.path.join(train_dir,str(klass))\n",
        "    image_list =  os.listdir(class_dir)\n",
        "\n",
        "    for sample in image_list:\n",
        "        img = cv2.resize(cv2.imread(class_dir+'/'+sample),(100,100))\n",
        "        xdata[klass].append(img)"
      ]
    },
    {
      "cell_type": "code",
      "execution_count": 6,
      "id": "8f386785",
      "metadata": {
        "execution": {
          "iopub.execute_input": "2022-10-03T17:51:31.450919Z",
          "iopub.status.busy": "2022-10-03T17:51:31.450529Z",
          "iopub.status.idle": "2022-10-03T17:51:31.456478Z",
          "shell.execute_reply": "2022-10-03T17:51:31.455528Z"
        },
        "papermill": {
          "duration": 0.014509,
          "end_time": "2022-10-03T17:51:31.458543",
          "exception": false,
          "start_time": "2022-10-03T17:51:31.444034",
          "status": "completed"
        },
        "tags": [],
        "colab": {
          "base_uri": "https://localhost:8080/"
        },
        "id": "8f386785",
        "outputId": "ea4acb34-33ef-4874-8dc3-e78423b8bbf3"
      },
      "outputs": [
        {
          "output_type": "stream",
          "name": "stdout",
          "text": [
            "(4848, 100, 100, 3)\n",
            "(4848,)\n"
          ]
        }
      ],
      "source": [
        "X = np.array(xdata[0] + xdata[1] + xdata[2])\n",
        "print(X.shape)\n",
        "Y = np.array([0 for i in range(len(xdata[0]))] + [1 for i in range(len(xdata[1]))] + [2 for i in range(len(xdata[2]))])\n",
        "print(Y.shape)"
      ]
    },
    {
      "cell_type": "code",
      "execution_count": 7,
      "id": "efb73c6d",
      "metadata": {
        "execution": {
          "iopub.execute_input": "2022-10-03T17:51:31.592421Z",
          "iopub.status.busy": "2022-10-03T17:51:31.592047Z",
          "iopub.status.idle": "2022-10-03T17:51:32.587200Z",
          "shell.execute_reply": "2022-10-03T17:51:32.586244Z"
        },
        "papermill": {
          "duration": 1.004536,
          "end_time": "2022-10-03T17:51:32.589850",
          "exception": false,
          "start_time": "2022-10-03T17:51:31.585314",
          "status": "completed"
        },
        "tags": [],
        "id": "efb73c6d"
      },
      "outputs": [],
      "source": [
        "xtrain, xtest, ytrain, ytest = train_test_split(X, Y, test_size=0.3, random_state=0, shuffle=True)"
      ]
    },
    {
      "cell_type": "code",
      "source": [
        "from sklearn.utils import class_weight\n",
        "class_weights = class_weight.compute_class_weight(class_weight='balanced',\n",
        "                                                  classes= np.unique(ytrain),\n",
        "                                                  y= ytrain)\n",
        "class_weights = dict(enumerate(class_weights))"
      ],
      "metadata": {
        "id": "pWj8TpXPs_t7"
      },
      "id": "pWj8TpXPs_t7",
      "execution_count": 8,
      "outputs": []
    },
    {
      "cell_type": "code",
      "source": [
        "np.unique(ytrain)"
      ],
      "metadata": {
        "colab": {
          "base_uri": "https://localhost:8080/"
        },
        "id": "2cfwhklHszqo",
        "outputId": "7046dae1-8f09-4599-89e8-f99f4c34473d"
      },
      "id": "2cfwhklHszqo",
      "execution_count": 9,
      "outputs": [
        {
          "output_type": "execute_result",
          "data": {
            "text/plain": [
              "array([0, 1, 2])"
            ]
          },
          "metadata": {},
          "execution_count": 9
        }
      ]
    },
    {
      "cell_type": "code",
      "execution_count": 10,
      "id": "04b2c5f7",
      "metadata": {
        "execution": {
          "iopub.execute_input": "2022-10-03T17:51:38.290025Z",
          "iopub.status.busy": "2022-10-03T17:51:38.289308Z",
          "iopub.status.idle": "2022-10-03T17:51:38.521416Z",
          "shell.execute_reply": "2022-10-03T17:51:38.520271Z"
        },
        "papermill": {
          "duration": 0.241539,
          "end_time": "2022-10-03T17:51:38.524518",
          "exception": false,
          "start_time": "2022-10-03T17:51:38.282979",
          "status": "completed"
        },
        "tags": [],
        "id": "04b2c5f7"
      },
      "outputs": [],
      "source": [
        "def create_model():\n",
        "  model=Sequential()\n",
        "  model.add(Conv2D(64,(3,3),activation='relu',input_shape=(100,100,3)))\n",
        "  #pooling layer\n",
        "  model.add(MaxPooling2D(2,2))\n",
        "  model.add(BatchNormalization())\n",
        "  model.add(Conv2D(32,(3,3),activation='relu'))\n",
        "  #pooling layer\n",
        "  model.add(MaxPooling2D(2,2))\n",
        "  model.add(BatchNormalization())\n",
        "  model.add(Conv2D(64,(3,3),activation='relu'))\n",
        "  model.add(Dropout(0.5))\n",
        "  #pooling layer\n",
        "  model.add(MaxPooling2D(2,2))\n",
        "  model.add(BatchNormalization())\n",
        "  model.add(Conv2D(32,(3,3),activation='relu'))\n",
        "  model.add(Dropout(0.5))\n",
        "  #pooling layer\n",
        "  model.add(MaxPooling2D(2,2))\n",
        "  model.add(BatchNormalization())\n",
        "  model.add(Flatten())\n",
        "  model.add(Dense(64, activation='relu'))\n",
        "  model.add(Dropout(0.5))\n",
        "  model.add(Dense(3, activation='softmax'))\n",
        "\n",
        "  return model"
      ]
    },
    {
      "cell_type": "code",
      "execution_count": 11,
      "id": "8d3a6d4b",
      "metadata": {
        "execution": {
          "iopub.execute_input": "2022-10-03T17:51:38.537562Z",
          "iopub.status.busy": "2022-10-03T17:51:38.537008Z",
          "iopub.status.idle": "2022-10-03T17:51:38.549530Z",
          "shell.execute_reply": "2022-10-03T17:51:38.548395Z"
        },
        "papermill": {
          "duration": 0.022116,
          "end_time": "2022-10-03T17:51:38.552228",
          "exception": false,
          "start_time": "2022-10-03T17:51:38.530112",
          "status": "completed"
        },
        "tags": [],
        "colab": {
          "base_uri": "https://localhost:8080/"
        },
        "id": "8d3a6d4b",
        "outputId": "edb7d1b6-dbf4-487c-e1a5-e1e8f96af0bc"
      },
      "outputs": [
        {
          "output_type": "stream",
          "name": "stdout",
          "text": [
            "Model: \"sequential\"\n",
            "_________________________________________________________________\n",
            " Layer (type)                Output Shape              Param #   \n",
            "=================================================================\n",
            " conv2d (Conv2D)             (None, 98, 98, 64)        1792      \n",
            "                                                                 \n",
            " max_pooling2d (MaxPooling2D  (None, 49, 49, 64)       0         \n",
            " )                                                               \n",
            "                                                                 \n",
            " batch_normalization (BatchN  (None, 49, 49, 64)       256       \n",
            " ormalization)                                                   \n",
            "                                                                 \n",
            " conv2d_1 (Conv2D)           (None, 47, 47, 32)        18464     \n",
            "                                                                 \n",
            " max_pooling2d_1 (MaxPooling  (None, 23, 23, 32)       0         \n",
            " 2D)                                                             \n",
            "                                                                 \n",
            " batch_normalization_1 (Batc  (None, 23, 23, 32)       128       \n",
            " hNormalization)                                                 \n",
            "                                                                 \n",
            " conv2d_2 (Conv2D)           (None, 21, 21, 64)        18496     \n",
            "                                                                 \n",
            " dropout (Dropout)           (None, 21, 21, 64)        0         \n",
            "                                                                 \n",
            " max_pooling2d_2 (MaxPooling  (None, 10, 10, 64)       0         \n",
            " 2D)                                                             \n",
            "                                                                 \n",
            " batch_normalization_2 (Batc  (None, 10, 10, 64)       256       \n",
            " hNormalization)                                                 \n",
            "                                                                 \n",
            " conv2d_3 (Conv2D)           (None, 8, 8, 32)          18464     \n",
            "                                                                 \n",
            " dropout_1 (Dropout)         (None, 8, 8, 32)          0         \n",
            "                                                                 \n",
            " max_pooling2d_3 (MaxPooling  (None, 4, 4, 32)         0         \n",
            " 2D)                                                             \n",
            "                                                                 \n",
            " batch_normalization_3 (Batc  (None, 4, 4, 32)         128       \n",
            " hNormalization)                                                 \n",
            "                                                                 \n",
            " flatten (Flatten)           (None, 512)               0         \n",
            "                                                                 \n",
            " dense (Dense)               (None, 64)                32832     \n",
            "                                                                 \n",
            " dropout_2 (Dropout)         (None, 64)                0         \n",
            "                                                                 \n",
            " dense_1 (Dense)             (None, 3)                 195       \n",
            "                                                                 \n",
            "=================================================================\n",
            "Total params: 91,011\n",
            "Trainable params: 90,627\n",
            "Non-trainable params: 384\n",
            "_________________________________________________________________\n",
            "None\n"
          ]
        }
      ],
      "source": [
        "cnn = create_model()\n",
        "cnn.compile(optimizer='adam', loss='sparse_categorical_crossentropy', metrics=['accuracy'])\n",
        "print(cnn.summary())"
      ]
    },
    {
      "cell_type": "code",
      "source": [
        "my_callbacks = [EarlyStopping(monitor='val_accuracy',patience=20, verbose=2, restore_best_weights=True)]"
      ],
      "metadata": {
        "id": "70eJm7CIv48s"
      },
      "id": "70eJm7CIv48s",
      "execution_count": 12,
      "outputs": []
    },
    {
      "cell_type": "code",
      "execution_count": 13,
      "id": "eb07f2e2",
      "metadata": {
        "execution": {
          "iopub.execute_input": "2022-10-03T17:51:38.565515Z",
          "iopub.status.busy": "2022-10-03T17:51:38.564464Z",
          "iopub.status.idle": "2022-10-03T19:41:37.631535Z",
          "shell.execute_reply": "2022-10-03T19:41:37.630706Z"
        },
        "papermill": {
          "duration": 6599.075772,
          "end_time": "2022-10-03T19:41:37.633548",
          "exception": false,
          "start_time": "2022-10-03T17:51:38.557776",
          "status": "completed"
        },
        "tags": [],
        "colab": {
          "base_uri": "https://localhost:8080/"
        },
        "id": "eb07f2e2",
        "outputId": "7e57ba99-d8dc-4d3d-dfc2-c40325a7b14b"
      },
      "outputs": [
        {
          "output_type": "stream",
          "name": "stdout",
          "text": [
            "Epoch 1/300\n",
            "54/54 [==============================] - 12s 43ms/step - loss: 1.2585 - accuracy: 0.4103 - val_loss: 1.0641 - val_accuracy: 0.4502\n",
            "Epoch 2/300\n",
            "54/54 [==============================] - 2s 30ms/step - loss: 1.1006 - accuracy: 0.4436 - val_loss: 1.0736 - val_accuracy: 0.3684\n",
            "Epoch 3/300\n",
            "54/54 [==============================] - 2s 29ms/step - loss: 1.0619 - accuracy: 0.4763 - val_loss: 1.0710 - val_accuracy: 0.4289\n",
            "Epoch 4/300\n",
            "54/54 [==============================] - 2s 29ms/step - loss: 1.0588 - accuracy: 0.4839 - val_loss: 1.0457 - val_accuracy: 0.4914\n",
            "Epoch 5/300\n",
            "54/54 [==============================] - 2s 33ms/step - loss: 1.0548 - accuracy: 0.4801 - val_loss: 1.0795 - val_accuracy: 0.3856\n",
            "Epoch 6/300\n",
            "54/54 [==============================] - 2s 30ms/step - loss: 1.0457 - accuracy: 0.4928 - val_loss: 1.0885 - val_accuracy: 0.3759\n",
            "Epoch 7/300\n",
            "54/54 [==============================] - 2s 29ms/step - loss: 1.0427 - accuracy: 0.4795 - val_loss: 1.1211 - val_accuracy: 0.3794\n",
            "Epoch 8/300\n",
            "54/54 [==============================] - 2s 29ms/step - loss: 1.0350 - accuracy: 0.4913 - val_loss: 1.0798 - val_accuracy: 0.4021\n",
            "Epoch 9/300\n",
            "54/54 [==============================] - 2s 29ms/step - loss: 1.0337 - accuracy: 0.4957 - val_loss: 1.0886 - val_accuracy: 0.4096\n",
            "Epoch 10/300\n",
            "54/54 [==============================] - 2s 29ms/step - loss: 1.0324 - accuracy: 0.5028 - val_loss: 1.0569 - val_accuracy: 0.4433\n",
            "Epoch 11/300\n",
            "54/54 [==============================] - 2s 29ms/step - loss: 1.0273 - accuracy: 0.4987 - val_loss: 1.1160 - val_accuracy: 0.3698\n",
            "Epoch 12/300\n",
            "54/54 [==============================] - 2s 29ms/step - loss: 1.0316 - accuracy: 0.4990 - val_loss: 1.0495 - val_accuracy: 0.4460\n",
            "Epoch 13/300\n",
            "54/54 [==============================] - 2s 33ms/step - loss: 1.0213 - accuracy: 0.5075 - val_loss: 1.0846 - val_accuracy: 0.3904\n",
            "Epoch 14/300\n",
            "54/54 [==============================] - 2s 29ms/step - loss: 1.0247 - accuracy: 0.5119 - val_loss: 1.1572 - val_accuracy: 0.3340\n",
            "Epoch 15/300\n",
            "54/54 [==============================] - 2s 30ms/step - loss: 1.0109 - accuracy: 0.5152 - val_loss: 1.0429 - val_accuracy: 0.4976\n",
            "Epoch 16/300\n",
            "54/54 [==============================] - 2s 29ms/step - loss: 1.0407 - accuracy: 0.5022 - val_loss: 1.0556 - val_accuracy: 0.4570\n",
            "Epoch 17/300\n",
            "54/54 [==============================] - 2s 29ms/step - loss: 1.0189 - accuracy: 0.5075 - val_loss: 1.0624 - val_accuracy: 0.4357\n",
            "Epoch 18/300\n",
            "54/54 [==============================] - 2s 29ms/step - loss: 1.0120 - accuracy: 0.5152 - val_loss: 1.0555 - val_accuracy: 0.4838\n",
            "Epoch 19/300\n",
            "54/54 [==============================] - 2s 29ms/step - loss: 1.0097 - accuracy: 0.5287 - val_loss: 1.0671 - val_accuracy: 0.4522\n",
            "Epoch 20/300\n",
            "54/54 [==============================] - 2s 29ms/step - loss: 1.0039 - accuracy: 0.5290 - val_loss: 1.0484 - val_accuracy: 0.4564\n",
            "Epoch 21/300\n",
            "54/54 [==============================] - 2s 29ms/step - loss: 1.0008 - accuracy: 0.5281 - val_loss: 1.0522 - val_accuracy: 0.4625\n",
            "Epoch 22/300\n",
            "54/54 [==============================] - 2s 29ms/step - loss: 0.9996 - accuracy: 0.5308 - val_loss: 1.0465 - val_accuracy: 0.4605\n",
            "Epoch 23/300\n",
            "54/54 [==============================] - 2s 29ms/step - loss: 0.9948 - accuracy: 0.5243 - val_loss: 1.0391 - val_accuracy: 0.4742\n",
            "Epoch 24/300\n",
            "54/54 [==============================] - 2s 30ms/step - loss: 0.9999 - accuracy: 0.5290 - val_loss: 1.0938 - val_accuracy: 0.3890\n",
            "Epoch 25/300\n",
            "54/54 [==============================] - 2s 33ms/step - loss: 0.9923 - accuracy: 0.5367 - val_loss: 1.0529 - val_accuracy: 0.4536\n",
            "Epoch 26/300\n",
            "54/54 [==============================] - 2s 31ms/step - loss: 0.9836 - accuracy: 0.5402 - val_loss: 1.0423 - val_accuracy: 0.4804\n",
            "Epoch 27/300\n",
            "54/54 [==============================] - 2s 29ms/step - loss: 0.9885 - accuracy: 0.5464 - val_loss: 1.1700 - val_accuracy: 0.3450\n",
            "Epoch 28/300\n",
            "54/54 [==============================] - 2s 29ms/step - loss: 0.9904 - accuracy: 0.5379 - val_loss: 1.1579 - val_accuracy: 0.3430\n",
            "Epoch 29/300\n",
            "54/54 [==============================] - 2s 29ms/step - loss: 0.9868 - accuracy: 0.5355 - val_loss: 1.1054 - val_accuracy: 0.3478\n",
            "Epoch 30/300\n",
            "54/54 [==============================] - 2s 29ms/step - loss: 0.9704 - accuracy: 0.5494 - val_loss: 1.1858 - val_accuracy: 0.3485\n",
            "Epoch 31/300\n",
            "54/54 [==============================] - 2s 29ms/step - loss: 0.9732 - accuracy: 0.5491 - val_loss: 1.2156 - val_accuracy: 0.3622\n",
            "Epoch 32/300\n",
            "54/54 [==============================] - 2s 29ms/step - loss: 0.9736 - accuracy: 0.5438 - val_loss: 1.4031 - val_accuracy: 0.3203\n",
            "Epoch 33/300\n",
            "54/54 [==============================] - 2s 29ms/step - loss: 0.9602 - accuracy: 0.5535 - val_loss: 1.0725 - val_accuracy: 0.4062\n",
            "Epoch 34/300\n",
            "54/54 [==============================] - 2s 30ms/step - loss: 0.9699 - accuracy: 0.5517 - val_loss: 1.0273 - val_accuracy: 0.4997\n",
            "Epoch 35/300\n",
            "54/54 [==============================] - 2s 29ms/step - loss: 0.9696 - accuracy: 0.5564 - val_loss: 1.0374 - val_accuracy: 0.4900\n",
            "Epoch 36/300\n",
            "54/54 [==============================] - 2s 29ms/step - loss: 0.9659 - accuracy: 0.5461 - val_loss: 1.0368 - val_accuracy: 0.4852\n",
            "Epoch 37/300\n",
            "54/54 [==============================] - 2s 29ms/step - loss: 0.9706 - accuracy: 0.5488 - val_loss: 1.0338 - val_accuracy: 0.4887\n",
            "Epoch 38/300\n",
            "54/54 [==============================] - 2s 30ms/step - loss: 0.9739 - accuracy: 0.5494 - val_loss: 1.0329 - val_accuracy: 0.5100\n",
            "Epoch 39/300\n",
            "54/54 [==============================] - 2s 32ms/step - loss: 0.9573 - accuracy: 0.5603 - val_loss: 1.0326 - val_accuracy: 0.4852\n",
            "Epoch 40/300\n",
            "54/54 [==============================] - 2s 30ms/step - loss: 0.9524 - accuracy: 0.5635 - val_loss: 1.0417 - val_accuracy: 0.4976\n",
            "Epoch 41/300\n",
            "54/54 [==============================] - 2s 29ms/step - loss: 0.9655 - accuracy: 0.5623 - val_loss: 1.0439 - val_accuracy: 0.4797\n",
            "Epoch 42/300\n",
            "54/54 [==============================] - 2s 29ms/step - loss: 0.9470 - accuracy: 0.5591 - val_loss: 1.1261 - val_accuracy: 0.3491\n",
            "Epoch 43/300\n",
            "54/54 [==============================] - 2s 29ms/step - loss: 0.9832 - accuracy: 0.5382 - val_loss: 1.5030 - val_accuracy: 0.3182\n",
            "Epoch 44/300\n",
            "54/54 [==============================] - 2s 30ms/step - loss: 0.9773 - accuracy: 0.5420 - val_loss: 1.2613 - val_accuracy: 0.3237\n",
            "Epoch 45/300\n",
            "54/54 [==============================] - 2s 29ms/step - loss: 0.9553 - accuracy: 0.5508 - val_loss: 1.0301 - val_accuracy: 0.4859\n",
            "Epoch 46/300\n",
            "54/54 [==============================] - 2s 30ms/step - loss: 0.9498 - accuracy: 0.5588 - val_loss: 1.0516 - val_accuracy: 0.4825\n",
            "Epoch 47/300\n",
            "54/54 [==============================] - 2s 29ms/step - loss: 0.9608 - accuracy: 0.5535 - val_loss: 1.0312 - val_accuracy: 0.4838\n",
            "Epoch 48/300\n",
            "54/54 [==============================] - 2s 30ms/step - loss: 0.9428 - accuracy: 0.5650 - val_loss: 1.0905 - val_accuracy: 0.4653\n",
            "Epoch 49/300\n",
            "54/54 [==============================] - 2s 29ms/step - loss: 0.9489 - accuracy: 0.5620 - val_loss: 1.0337 - val_accuracy: 0.4797\n",
            "Epoch 50/300\n",
            "54/54 [==============================] - 2s 29ms/step - loss: 0.9349 - accuracy: 0.5679 - val_loss: 1.0329 - val_accuracy: 0.4921\n",
            "Epoch 51/300\n",
            "54/54 [==============================] - 2s 29ms/step - loss: 0.9187 - accuracy: 0.5827 - val_loss: 1.0417 - val_accuracy: 0.4818\n",
            "Epoch 52/300\n",
            "54/54 [==============================] - 2s 29ms/step - loss: 0.9176 - accuracy: 0.5824 - val_loss: 1.0176 - val_accuracy: 0.5052\n",
            "Epoch 53/300\n",
            "54/54 [==============================] - 2s 29ms/step - loss: 0.9253 - accuracy: 0.5906 - val_loss: 1.2607 - val_accuracy: 0.3375\n",
            "Epoch 54/300\n",
            "54/54 [==============================] - 2s 29ms/step - loss: 0.9135 - accuracy: 0.5827 - val_loss: 1.0337 - val_accuracy: 0.4948\n",
            "Epoch 55/300\n",
            "54/54 [==============================] - 2s 29ms/step - loss: 0.9017 - accuracy: 0.5897 - val_loss: 1.6739 - val_accuracy: 0.3375\n",
            "Epoch 56/300\n",
            "54/54 [==============================] - 2s 30ms/step - loss: 0.9162 - accuracy: 0.5871 - val_loss: 0.9998 - val_accuracy: 0.5381\n",
            "Epoch 57/300\n",
            "54/54 [==============================] - 2s 29ms/step - loss: 0.9255 - accuracy: 0.5782 - val_loss: 1.0134 - val_accuracy: 0.5402\n",
            "Epoch 58/300\n",
            "54/54 [==============================] - 2s 29ms/step - loss: 0.9975 - accuracy: 0.5264 - val_loss: 1.0416 - val_accuracy: 0.4955\n",
            "Epoch 59/300\n",
            "54/54 [==============================] - 2s 30ms/step - loss: 0.9585 - accuracy: 0.5603 - val_loss: 1.4767 - val_accuracy: 0.3299\n",
            "Epoch 60/300\n",
            "54/54 [==============================] - 2s 29ms/step - loss: 0.9569 - accuracy: 0.5653 - val_loss: 1.3469 - val_accuracy: 0.3354\n",
            "Epoch 61/300\n",
            "54/54 [==============================] - 2s 29ms/step - loss: 0.9347 - accuracy: 0.5780 - val_loss: 1.0741 - val_accuracy: 0.4055\n",
            "Epoch 62/300\n",
            "54/54 [==============================] - 2s 29ms/step - loss: 0.9223 - accuracy: 0.5777 - val_loss: 1.0831 - val_accuracy: 0.3931\n",
            "Epoch 63/300\n",
            "54/54 [==============================] - 2s 29ms/step - loss: 0.9166 - accuracy: 0.5836 - val_loss: 1.0484 - val_accuracy: 0.4378\n",
            "Epoch 64/300\n",
            "54/54 [==============================] - 2s 29ms/step - loss: 0.9072 - accuracy: 0.5942 - val_loss: 1.0139 - val_accuracy: 0.5340\n",
            "Epoch 65/300\n",
            "54/54 [==============================] - 2s 29ms/step - loss: 0.8991 - accuracy: 0.5980 - val_loss: 1.0342 - val_accuracy: 0.4701\n",
            "Epoch 66/300\n",
            "54/54 [==============================] - 2s 30ms/step - loss: 0.9301 - accuracy: 0.5765 - val_loss: 1.5039 - val_accuracy: 0.3210\n",
            "Epoch 67/300\n",
            "54/54 [==============================] - 2s 33ms/step - loss: 0.9009 - accuracy: 0.5903 - val_loss: 1.0837 - val_accuracy: 0.4007\n",
            "Epoch 68/300\n",
            "54/54 [==============================] - 2s 33ms/step - loss: 0.8998 - accuracy: 0.5983 - val_loss: 1.0129 - val_accuracy: 0.5017\n",
            "Epoch 69/300\n",
            "54/54 [==============================] - 2s 32ms/step - loss: 0.9036 - accuracy: 0.6001 - val_loss: 1.0709 - val_accuracy: 0.4399\n",
            "Epoch 70/300\n",
            "54/54 [==============================] - 2s 29ms/step - loss: 0.8834 - accuracy: 0.6077 - val_loss: 1.0059 - val_accuracy: 0.5375\n",
            "Epoch 71/300\n",
            "54/54 [==============================] - 2s 29ms/step - loss: 0.8909 - accuracy: 0.6021 - val_loss: 1.5759 - val_accuracy: 0.3409\n",
            "Epoch 72/300\n",
            "54/54 [==============================] - 2s 29ms/step - loss: 0.9058 - accuracy: 0.5971 - val_loss: 1.2235 - val_accuracy: 0.3677\n",
            "Epoch 73/300\n",
            "54/54 [==============================] - 2s 29ms/step - loss: 0.8896 - accuracy: 0.6051 - val_loss: 1.4462 - val_accuracy: 0.3320\n",
            "Epoch 74/300\n",
            "54/54 [==============================] - 2s 30ms/step - loss: 0.8854 - accuracy: 0.6086 - val_loss: 1.0399 - val_accuracy: 0.4680\n",
            "Epoch 75/300\n",
            "54/54 [==============================] - 2s 30ms/step - loss: 0.8826 - accuracy: 0.6060 - val_loss: 1.0152 - val_accuracy: 0.4969\n",
            "Epoch 76/300\n",
            "54/54 [==============================] - 2s 30ms/step - loss: 0.8749 - accuracy: 0.6113 - val_loss: 1.0406 - val_accuracy: 0.5079\n",
            "Epoch 77/300\n",
            "53/54 [============================>.] - ETA: 0s - loss: 0.8739 - accuracy: 0.6058Restoring model weights from the end of the best epoch: 57.\n",
            "54/54 [==============================] - 2s 30ms/step - loss: 0.8741 - accuracy: 0.6057 - val_loss: 0.9988 - val_accuracy: 0.5210\n",
            "Epoch 77: early stopping\n"
          ]
        },
        {
          "output_type": "execute_result",
          "data": {
            "text/plain": [
              "<keras.callbacks.History at 0x7f6d234ad610>"
            ]
          },
          "metadata": {},
          "execution_count": 13
        }
      ],
      "source": [
        "cnn.fit(xtrain,ytrain,epochs=300,batch_size=64,validation_data=(xtest,ytest),callbacks=my_callbacks)\n"
      ]
    },
    {
      "cell_type": "code",
      "execution_count": 14,
      "id": "e1a5e8db",
      "metadata": {
        "execution": {
          "iopub.execute_input": "2022-10-03T19:41:41.833300Z",
          "iopub.status.busy": "2022-10-03T19:41:41.832208Z",
          "iopub.status.idle": "2022-10-03T19:41:44.172312Z",
          "shell.execute_reply": "2022-10-03T19:41:44.171087Z"
        },
        "papermill": {
          "duration": 3.434749,
          "end_time": "2022-10-03T19:41:44.174533",
          "exception": false,
          "start_time": "2022-10-03T19:41:40.739784",
          "status": "completed"
        },
        "tags": [],
        "colab": {
          "base_uri": "https://localhost:8080/"
        },
        "id": "e1a5e8db",
        "outputId": "38c5a50c-d63b-4a90-809b-8211437a0adb"
      },
      "outputs": [
        {
          "output_type": "stream",
          "name": "stdout",
          "text": [
            "46/46 [==============================] - 0s 7ms/step - loss: 1.0134 - accuracy: 0.5402\n"
          ]
        },
        {
          "output_type": "execute_result",
          "data": {
            "text/plain": [
              "[1.013407588005066, 0.5402061939239502]"
            ]
          },
          "metadata": {},
          "execution_count": 14
        }
      ],
      "source": [
        "cnn.evaluate(xtest,ytest)"
      ]
    },
    {
      "cell_type": "code",
      "source": [],
      "metadata": {
        "id": "yPqPr5Kfsoek"
      },
      "id": "yPqPr5Kfsoek",
      "execution_count": 14,
      "outputs": []
    }
  ],
  "metadata": {
    "kernelspec": {
      "display_name": "Python 3",
      "language": "python",
      "name": "python3"
    },
    "language_info": {
      "codemirror_mode": {
        "name": "ipython",
        "version": 3
      },
      "file_extension": ".py",
      "mimetype": "text/x-python",
      "name": "python",
      "nbconvert_exporter": "python",
      "pygments_lexer": "ipython3",
      "version": "3.7.12"
    },
    "papermill": {
      "default_parameters": {},
      "duration": 6683.124106,
      "end_time": "2022-10-03T19:41:50.627117",
      "environment_variables": {},
      "exception": null,
      "input_path": "__notebook__.ipynb",
      "output_path": "__notebook__.ipynb",
      "parameters": {},
      "start_time": "2022-10-03T17:50:27.503011",
      "version": "2.3.4"
    },
    "colab": {
      "provenance": []
    },
    "accelerator": "GPU",
    "gpuClass": "standard"
  },
  "nbformat": 4,
  "nbformat_minor": 5
}